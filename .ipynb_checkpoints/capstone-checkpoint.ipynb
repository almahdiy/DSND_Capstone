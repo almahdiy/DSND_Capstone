{
 "cells": [
  {
   "cell_type": "markdown",
   "metadata": {},
   "source": [
    "# Project Overview\n",
    "\n",
    "Every year, there are many computer science graduates from all over the world that apply to master's programs in the United States. Often, these students do their research about the requirements of the universities they're applying to, try to score as close as they can to their averages, and apply to as many of them as they could, in order to secure a place. The process can be very lengthy, costly, and overwhelming. \n",
    "\n",
    "Because I am interested in attending graduate school at some point, I decided to investigate for myself, to understand what I need to focus on to maximize my chances of admission, and build a machine learning model that would predict how likely it is for me to get into certain institutions. "
   ]
  },
  {
   "cell_type": "markdown",
   "metadata": {},
   "source": [
    "# Project Statement\n",
    "### Goals:\n",
    "1. Finding out what factors contribute more to the chance of admission.\n",
    "#### Strategy: \n",
    "Exploratory Data Analysis; finding out which features correlate with the target (Chance of Admit) more.<br>\n",
    "<br>\n",
    "2. Building a machine learning model to estimate the likelihood of an applicant getting admitted to a program.\n",
    "#### Strategy:\n",
    "I will be testing out different regression algorithms, and tuning the parameters using GridSearchCV. I will then compare the results using different metrics. \n",
    "\n"
   ]
  },
  {
   "cell_type": "markdown",
   "metadata": {},
   "source": [
    "\n",
    "\n",
    "# Metrics\n",
    "I choose to focus mainly on R2, because it determines how close the points are to the diagonal line in the residual scatter plot. I will also consider MAE (because I don't want to penalize the model too much on a couple of large errors, as the nature of the use case is not very crticial.)\n",
    "\n",
    "\n",
    "\n"
   ]
  },
  {
   "cell_type": "code",
   "execution_count": 164,
   "metadata": {},
   "outputs": [],
   "source": [
    "import numpy as np\n",
    "import pandas as pd\n",
    "from sklearn.metrics import mean_absolute_error, mean_squared_error, max_error, r2_score\n",
    "from sklearn.model_selection import train_test_split, GridSearchCV\n",
    "from sklearn.ensemble import RandomForestRegressor\n",
    "from sklearn.preprocessing import StandardScaler, QuantileTransformer\n",
    "from sklearn import svm\n",
    "from sklearn import linear_model\n",
    "import matplotlib.pyplot as plt\n",
    "\n",
    "import seaborn as sns\n",
    "from math import sqrt\n",
    "import pickle"
   ]
  },
  {
   "cell_type": "markdown",
   "metadata": {},
   "source": [
    "Kaggle included two data files. I am reading the file that has more data records"
   ]
  },
  {
   "cell_type": "code",
   "execution_count": 26,
   "metadata": {},
   "outputs": [
    {
     "data": {
      "text/html": [
       "<div>\n",
       "<style scoped>\n",
       "    .dataframe tbody tr th:only-of-type {\n",
       "        vertical-align: middle;\n",
       "    }\n",
       "\n",
       "    .dataframe tbody tr th {\n",
       "        vertical-align: top;\n",
       "    }\n",
       "\n",
       "    .dataframe thead th {\n",
       "        text-align: right;\n",
       "    }\n",
       "</style>\n",
       "<table border=\"1\" class=\"dataframe\">\n",
       "  <thead>\n",
       "    <tr style=\"text-align: right;\">\n",
       "      <th></th>\n",
       "      <th>Serial No.</th>\n",
       "      <th>GRE Score</th>\n",
       "      <th>TOEFL Score</th>\n",
       "      <th>University Rating</th>\n",
       "      <th>SOP</th>\n",
       "      <th>LOR</th>\n",
       "      <th>CGPA</th>\n",
       "      <th>Research</th>\n",
       "      <th>Chance of Admit</th>\n",
       "    </tr>\n",
       "  </thead>\n",
       "  <tbody>\n",
       "    <tr>\n",
       "      <td>0</td>\n",
       "      <td>1</td>\n",
       "      <td>337</td>\n",
       "      <td>118</td>\n",
       "      <td>4</td>\n",
       "      <td>4.5</td>\n",
       "      <td>4.5</td>\n",
       "      <td>9.65</td>\n",
       "      <td>1</td>\n",
       "      <td>0.92</td>\n",
       "    </tr>\n",
       "    <tr>\n",
       "      <td>1</td>\n",
       "      <td>2</td>\n",
       "      <td>324</td>\n",
       "      <td>107</td>\n",
       "      <td>4</td>\n",
       "      <td>4.0</td>\n",
       "      <td>4.5</td>\n",
       "      <td>8.87</td>\n",
       "      <td>1</td>\n",
       "      <td>0.76</td>\n",
       "    </tr>\n",
       "    <tr>\n",
       "      <td>2</td>\n",
       "      <td>3</td>\n",
       "      <td>316</td>\n",
       "      <td>104</td>\n",
       "      <td>3</td>\n",
       "      <td>3.0</td>\n",
       "      <td>3.5</td>\n",
       "      <td>8.00</td>\n",
       "      <td>1</td>\n",
       "      <td>0.72</td>\n",
       "    </tr>\n",
       "    <tr>\n",
       "      <td>3</td>\n",
       "      <td>4</td>\n",
       "      <td>322</td>\n",
       "      <td>110</td>\n",
       "      <td>3</td>\n",
       "      <td>3.5</td>\n",
       "      <td>2.5</td>\n",
       "      <td>8.67</td>\n",
       "      <td>1</td>\n",
       "      <td>0.80</td>\n",
       "    </tr>\n",
       "    <tr>\n",
       "      <td>4</td>\n",
       "      <td>5</td>\n",
       "      <td>314</td>\n",
       "      <td>103</td>\n",
       "      <td>2</td>\n",
       "      <td>2.0</td>\n",
       "      <td>3.0</td>\n",
       "      <td>8.21</td>\n",
       "      <td>0</td>\n",
       "      <td>0.65</td>\n",
       "    </tr>\n",
       "    <tr>\n",
       "      <td>...</td>\n",
       "      <td>...</td>\n",
       "      <td>...</td>\n",
       "      <td>...</td>\n",
       "      <td>...</td>\n",
       "      <td>...</td>\n",
       "      <td>...</td>\n",
       "      <td>...</td>\n",
       "      <td>...</td>\n",
       "      <td>...</td>\n",
       "    </tr>\n",
       "    <tr>\n",
       "      <td>495</td>\n",
       "      <td>496</td>\n",
       "      <td>332</td>\n",
       "      <td>108</td>\n",
       "      <td>5</td>\n",
       "      <td>4.5</td>\n",
       "      <td>4.0</td>\n",
       "      <td>9.02</td>\n",
       "      <td>1</td>\n",
       "      <td>0.87</td>\n",
       "    </tr>\n",
       "    <tr>\n",
       "      <td>496</td>\n",
       "      <td>497</td>\n",
       "      <td>337</td>\n",
       "      <td>117</td>\n",
       "      <td>5</td>\n",
       "      <td>5.0</td>\n",
       "      <td>5.0</td>\n",
       "      <td>9.87</td>\n",
       "      <td>1</td>\n",
       "      <td>0.96</td>\n",
       "    </tr>\n",
       "    <tr>\n",
       "      <td>497</td>\n",
       "      <td>498</td>\n",
       "      <td>330</td>\n",
       "      <td>120</td>\n",
       "      <td>5</td>\n",
       "      <td>4.5</td>\n",
       "      <td>5.0</td>\n",
       "      <td>9.56</td>\n",
       "      <td>1</td>\n",
       "      <td>0.93</td>\n",
       "    </tr>\n",
       "    <tr>\n",
       "      <td>498</td>\n",
       "      <td>499</td>\n",
       "      <td>312</td>\n",
       "      <td>103</td>\n",
       "      <td>4</td>\n",
       "      <td>4.0</td>\n",
       "      <td>5.0</td>\n",
       "      <td>8.43</td>\n",
       "      <td>0</td>\n",
       "      <td>0.73</td>\n",
       "    </tr>\n",
       "    <tr>\n",
       "      <td>499</td>\n",
       "      <td>500</td>\n",
       "      <td>327</td>\n",
       "      <td>113</td>\n",
       "      <td>4</td>\n",
       "      <td>4.5</td>\n",
       "      <td>4.5</td>\n",
       "      <td>9.04</td>\n",
       "      <td>0</td>\n",
       "      <td>0.84</td>\n",
       "    </tr>\n",
       "  </tbody>\n",
       "</table>\n",
       "<p>500 rows × 9 columns</p>\n",
       "</div>"
      ],
      "text/plain": [
       "     Serial No.  GRE Score  TOEFL Score  University Rating  SOP  LOR   CGPA  \\\n",
       "0             1        337          118                  4  4.5   4.5  9.65   \n",
       "1             2        324          107                  4  4.0   4.5  8.87   \n",
       "2             3        316          104                  3  3.0   3.5  8.00   \n",
       "3             4        322          110                  3  3.5   2.5  8.67   \n",
       "4             5        314          103                  2  2.0   3.0  8.21   \n",
       "..          ...        ...          ...                ...  ...   ...   ...   \n",
       "495         496        332          108                  5  4.5   4.0  9.02   \n",
       "496         497        337          117                  5  5.0   5.0  9.87   \n",
       "497         498        330          120                  5  4.5   5.0  9.56   \n",
       "498         499        312          103                  4  4.0   5.0  8.43   \n",
       "499         500        327          113                  4  4.5   4.5  9.04   \n",
       "\n",
       "     Research  Chance of Admit   \n",
       "0           1              0.92  \n",
       "1           1              0.76  \n",
       "2           1              0.72  \n",
       "3           1              0.80  \n",
       "4           0              0.65  \n",
       "..        ...               ...  \n",
       "495         1              0.87  \n",
       "496         1              0.96  \n",
       "497         1              0.93  \n",
       "498         0              0.73  \n",
       "499         0              0.84  \n",
       "\n",
       "[500 rows x 9 columns]"
      ]
     },
     "execution_count": 26,
     "metadata": {},
     "output_type": "execute_result"
    }
   ],
   "source": [
    "df = pd.read_csv(\"Data/Admission_Predict_Ver1.1.csv\")\n",
    "df"
   ]
  },
  {
   "cell_type": "markdown",
   "metadata": {},
   "source": [
    "## Helper functions"
   ]
  },
  {
   "cell_type": "code",
   "execution_count": 272,
   "metadata": {},
   "outputs": [],
   "source": [
    "def boxplot():\n",
    "    \"\"\"\n",
    "    A handy function to produce boxplots for each of the features of interest in the dataframe.\n",
    "    \"\"\"\n",
    "    fig, axs = plt.subplots(3, 3)\n",
    "    fig.suptitle('Boxplots', fontsize=20, fontweight='bold')\n",
    "\n",
    "    fig.set_size_inches(15, 15)\n",
    "\n",
    "    axs[0, 0].boxplot(df['GRE Score'])\n",
    "    axs[0, 0].set_title('GRE Score')\n",
    "\n",
    "    axs[0, 1].boxplot(df['TOEFL Score'])\n",
    "    axs[0, 1].set_title('TOEFL Score')\n",
    "\n",
    "    axs[0, 2].boxplot(df['University Rating'])\n",
    "    axs[0, 2].set_title('University Rating')\n",
    "\n",
    "    axs[1, 0].boxplot(df['SOP'])\n",
    "    axs[1, 0].set_title('SOP')\n",
    "\n",
    "    axs[1, 1].boxplot(df['LOR'])\n",
    "    axs[1, 1].set_title('LOR')\n",
    "\n",
    "    axs[1, 2].boxplot(df['CGPA'])\n",
    "    axs[1, 2].set_title('CGPA')\n",
    "\n",
    "    axs[2, 0].boxplot(df['Research'])\n",
    "    axs[2, 0].set_title('Research')\n",
    "\n",
    "\n",
    "    \n",
    "# Learned this from a coworker. \n",
    "def evaluate(label, model, x_test, y_test):\n",
    "    \"\"\"\n",
    "    A function that calculates different evaluation metrics for the given model, and produces a residual error scatter plot,\n",
    "    \n",
    "    Params:\n",
    "    - label: a string to be used as an index in the evaluation dataframe, and as a label to the scatter plot.\n",
    "    - model: the model to be evaluated\n",
    "    - x_test: the test set of the independent features \n",
    "    - y_test: the test set of the dependent (target) feature.\n",
    "    \n",
    "    Returns:\n",
    "    - the evaluation_df, which is a global variable, for the purpose of printing it.\n",
    "    \"\"\"\n",
    "    \n",
    "    \n",
    "    y_predict = model.predict(x_test)\n",
    "    mse = mean_squared_error(y_test, y_predict)\n",
    "    rmse = sqrt(mse)\n",
    "    mae = mean_absolute_error(y_test, y_predict)\n",
    "    errors = abs(y_predict - y_test)\n",
    "    r2 = r2_score(y_test, y_predict)\n",
    "    error_max = round(np.max(errors), 3)\n",
    "    error_min = round(np.min(errors), 3)\n",
    "    error_std = round(np.std(errors), 3)\n",
    "    \n",
    "    evaluation_df.loc[label] = [mse, rmse, mae, r2, error_max, error_min, error_std]\n",
    "    \n",
    "    \n",
    "    #residual plot\n",
    "    fig, axs = plt.subplots()\n",
    "    axs.scatter(y_test, y_predict)\n",
    "    axs.plot([y_test.min(), y_test.max()], [y_test.min(), y_test.max()], \"k--\", lw=4)\n",
    "    axs.set_xlabel(\"Measured\")\n",
    "    axs.set_ylabel(\"Predicted\")\n",
    "    axs.set_title(label)\n",
    "    \n",
    "    fig.show\n",
    "    \n",
    "    return evaluation_df #this is jsut so it gets printed right after the function finishes.\n",
    "    \n",
    "    "
   ]
  },
  {
   "cell_type": "markdown",
   "metadata": {},
   "source": [
    "---"
   ]
  },
  {
   "cell_type": "markdown",
   "metadata": {},
   "source": [
    "# Exploratory Data Analysis"
   ]
  },
  {
   "cell_type": "markdown",
   "metadata": {},
   "source": [
    "#### Which features are categorical?\n",
    "This is also used to determine the type of graph used for distribution (histogram Vs. bar chart)"
   ]
  },
  {
   "cell_type": "code",
   "execution_count": 28,
   "metadata": {},
   "outputs": [],
   "source": [
    "df.columns = df.columns.str.strip()"
   ]
  },
  {
   "cell_type": "code",
   "execution_count": 29,
   "metadata": {
    "scrolled": true
   },
   "outputs": [
    {
     "data": {
      "text/plain": [
       "1    280\n",
       "0    220\n",
       "Name: Research, dtype: int64"
      ]
     },
     "execution_count": 29,
     "metadata": {},
     "output_type": "execute_result"
    }
   ],
   "source": [
    "df['Research'].value_counts()"
   ]
  },
  {
   "cell_type": "code",
   "execution_count": 30,
   "metadata": {
    "scrolled": true
   },
   "outputs": [
    {
     "data": {
      "text/plain": [
       "3    162\n",
       "2    126\n",
       "4    105\n",
       "5     73\n",
       "1     34\n",
       "Name: University Rating, dtype: int64"
      ]
     },
     "execution_count": 30,
     "metadata": {},
     "output_type": "execute_result"
    }
   ],
   "source": [
    "df['University Rating'].value_counts()"
   ]
  },
  {
   "cell_type": "code",
   "execution_count": 31,
   "metadata": {},
   "outputs": [
    {
     "data": {
      "text/plain": [
       "4.0    89\n",
       "3.5    88\n",
       "3.0    80\n",
       "2.5    64\n",
       "4.5    63\n",
       "2.0    43\n",
       "5.0    42\n",
       "1.5    25\n",
       "1.0     6\n",
       "Name: SOP, dtype: int64"
      ]
     },
     "execution_count": 31,
     "metadata": {},
     "output_type": "execute_result"
    }
   ],
   "source": [
    "df['SOP'].value_counts()"
   ]
  },
  {
   "cell_type": "code",
   "execution_count": 32,
   "metadata": {},
   "outputs": [
    {
     "data": {
      "text/plain": [
       "3.0    99\n",
       "4.0    94\n",
       "3.5    86\n",
       "4.5    63\n",
       "5.0    50\n",
       "2.5    50\n",
       "2.0    46\n",
       "1.5    11\n",
       "1.0     1\n",
       "Name: LOR, dtype: int64"
      ]
     },
     "execution_count": 32,
     "metadata": {},
     "output_type": "execute_result"
    }
   ],
   "source": [
    "df['LOR'].value_counts()"
   ]
  },
  {
   "cell_type": "markdown",
   "metadata": {},
   "source": [
    "#### Range of CGPAs in the dataset"
   ]
  },
  {
   "cell_type": "code",
   "execution_count": 33,
   "metadata": {},
   "outputs": [
    {
     "data": {
      "text/plain": [
       "Float64Index([ 6.8,  7.2, 7.21, 7.23, 7.25, 7.28,  7.3, 7.34, 7.36,  7.4,\n",
       "              ...\n",
       "               9.7, 9.74, 9.76, 9.78,  9.8, 9.82, 9.86, 9.87, 9.91, 9.92],\n",
       "             dtype='float64', length=184)"
      ]
     },
     "execution_count": 33,
     "metadata": {},
     "output_type": "execute_result"
    }
   ],
   "source": [
    "df['CGPA'].value_counts().index.sort_values()"
   ]
  },
  {
   "cell_type": "markdown",
   "metadata": {},
   "source": [
    "#### Summary of all the features"
   ]
  },
  {
   "cell_type": "code",
   "execution_count": 34,
   "metadata": {},
   "outputs": [
    {
     "data": {
      "text/html": [
       "<div>\n",
       "<style scoped>\n",
       "    .dataframe tbody tr th:only-of-type {\n",
       "        vertical-align: middle;\n",
       "    }\n",
       "\n",
       "    .dataframe tbody tr th {\n",
       "        vertical-align: top;\n",
       "    }\n",
       "\n",
       "    .dataframe thead th {\n",
       "        text-align: right;\n",
       "    }\n",
       "</style>\n",
       "<table border=\"1\" class=\"dataframe\">\n",
       "  <thead>\n",
       "    <tr style=\"text-align: right;\">\n",
       "      <th></th>\n",
       "      <th>Serial No.</th>\n",
       "      <th>GRE Score</th>\n",
       "      <th>TOEFL Score</th>\n",
       "      <th>University Rating</th>\n",
       "      <th>SOP</th>\n",
       "      <th>LOR</th>\n",
       "      <th>CGPA</th>\n",
       "      <th>Research</th>\n",
       "      <th>Chance of Admit</th>\n",
       "    </tr>\n",
       "  </thead>\n",
       "  <tbody>\n",
       "    <tr>\n",
       "      <td>count</td>\n",
       "      <td>500.000000</td>\n",
       "      <td>500.000000</td>\n",
       "      <td>500.000000</td>\n",
       "      <td>500.000000</td>\n",
       "      <td>500.000000</td>\n",
       "      <td>500.00000</td>\n",
       "      <td>500.000000</td>\n",
       "      <td>500.000000</td>\n",
       "      <td>500.00000</td>\n",
       "    </tr>\n",
       "    <tr>\n",
       "      <td>mean</td>\n",
       "      <td>250.500000</td>\n",
       "      <td>316.472000</td>\n",
       "      <td>107.192000</td>\n",
       "      <td>3.114000</td>\n",
       "      <td>3.374000</td>\n",
       "      <td>3.48400</td>\n",
       "      <td>8.576440</td>\n",
       "      <td>0.560000</td>\n",
       "      <td>0.72174</td>\n",
       "    </tr>\n",
       "    <tr>\n",
       "      <td>std</td>\n",
       "      <td>144.481833</td>\n",
       "      <td>11.295148</td>\n",
       "      <td>6.081868</td>\n",
       "      <td>1.143512</td>\n",
       "      <td>0.991004</td>\n",
       "      <td>0.92545</td>\n",
       "      <td>0.604813</td>\n",
       "      <td>0.496884</td>\n",
       "      <td>0.14114</td>\n",
       "    </tr>\n",
       "    <tr>\n",
       "      <td>min</td>\n",
       "      <td>1.000000</td>\n",
       "      <td>290.000000</td>\n",
       "      <td>92.000000</td>\n",
       "      <td>1.000000</td>\n",
       "      <td>1.000000</td>\n",
       "      <td>1.00000</td>\n",
       "      <td>6.800000</td>\n",
       "      <td>0.000000</td>\n",
       "      <td>0.34000</td>\n",
       "    </tr>\n",
       "    <tr>\n",
       "      <td>25%</td>\n",
       "      <td>125.750000</td>\n",
       "      <td>308.000000</td>\n",
       "      <td>103.000000</td>\n",
       "      <td>2.000000</td>\n",
       "      <td>2.500000</td>\n",
       "      <td>3.00000</td>\n",
       "      <td>8.127500</td>\n",
       "      <td>0.000000</td>\n",
       "      <td>0.63000</td>\n",
       "    </tr>\n",
       "    <tr>\n",
       "      <td>50%</td>\n",
       "      <td>250.500000</td>\n",
       "      <td>317.000000</td>\n",
       "      <td>107.000000</td>\n",
       "      <td>3.000000</td>\n",
       "      <td>3.500000</td>\n",
       "      <td>3.50000</td>\n",
       "      <td>8.560000</td>\n",
       "      <td>1.000000</td>\n",
       "      <td>0.72000</td>\n",
       "    </tr>\n",
       "    <tr>\n",
       "      <td>75%</td>\n",
       "      <td>375.250000</td>\n",
       "      <td>325.000000</td>\n",
       "      <td>112.000000</td>\n",
       "      <td>4.000000</td>\n",
       "      <td>4.000000</td>\n",
       "      <td>4.00000</td>\n",
       "      <td>9.040000</td>\n",
       "      <td>1.000000</td>\n",
       "      <td>0.82000</td>\n",
       "    </tr>\n",
       "    <tr>\n",
       "      <td>max</td>\n",
       "      <td>500.000000</td>\n",
       "      <td>340.000000</td>\n",
       "      <td>120.000000</td>\n",
       "      <td>5.000000</td>\n",
       "      <td>5.000000</td>\n",
       "      <td>5.00000</td>\n",
       "      <td>9.920000</td>\n",
       "      <td>1.000000</td>\n",
       "      <td>0.97000</td>\n",
       "    </tr>\n",
       "  </tbody>\n",
       "</table>\n",
       "</div>"
      ],
      "text/plain": [
       "       Serial No.   GRE Score  TOEFL Score  University Rating         SOP  \\\n",
       "count  500.000000  500.000000   500.000000         500.000000  500.000000   \n",
       "mean   250.500000  316.472000   107.192000           3.114000    3.374000   \n",
       "std    144.481833   11.295148     6.081868           1.143512    0.991004   \n",
       "min      1.000000  290.000000    92.000000           1.000000    1.000000   \n",
       "25%    125.750000  308.000000   103.000000           2.000000    2.500000   \n",
       "50%    250.500000  317.000000   107.000000           3.000000    3.500000   \n",
       "75%    375.250000  325.000000   112.000000           4.000000    4.000000   \n",
       "max    500.000000  340.000000   120.000000           5.000000    5.000000   \n",
       "\n",
       "             LOR        CGPA    Research  Chance of Admit  \n",
       "count  500.00000  500.000000  500.000000        500.00000  \n",
       "mean     3.48400    8.576440    0.560000          0.72174  \n",
       "std      0.92545    0.604813    0.496884          0.14114  \n",
       "min      1.00000    6.800000    0.000000          0.34000  \n",
       "25%      3.00000    8.127500    0.000000          0.63000  \n",
       "50%      3.50000    8.560000    1.000000          0.72000  \n",
       "75%      4.00000    9.040000    1.000000          0.82000  \n",
       "max      5.00000    9.920000    1.000000          0.97000  "
      ]
     },
     "execution_count": 34,
     "metadata": {},
     "output_type": "execute_result"
    }
   ],
   "source": [
    "df.describe()"
   ]
  },
  {
   "cell_type": "markdown",
   "metadata": {},
   "source": [
    "### Distribution of Features"
   ]
  },
  {
   "cell_type": "code",
   "execution_count": 273,
   "metadata": {
    "scrolled": true
   },
   "outputs": [
    {
     "data": {
      "text/plain": [
       "Text(0.5, 1.0, 'Research')"
      ]
     },
     "execution_count": 273,
     "metadata": {},
     "output_type": "execute_result"
    },
    {
     "data": {
      "image/png": "[encoded data removed]",
      "text/plain": [
       "<Figure size 1080x1080 with 9 Axes>"
      ]
     },
     "metadata": {
      "needs_background": "light"
     },
     "output_type": "display_data"
    }
   ],
   "source": [
    "# matplotlib histogram\n",
    "\n",
    "fig, axs = plt.subplots(3, 3)\n",
    "fig.suptitle('Distributioons', fontsize=20, fontweight='bold')\n",
    "\n",
    "fig.set_size_inches(15, 15)\n",
    "\n",
    "axs[0, 0].hist(df['GRE Score'], color = 'blue', edgecolor = 'black', bins = 15)\n",
    "axs[0, 0].set_title('GRE Score')\n",
    "\n",
    "axs[0, 1].hist(df['TOEFL Score'], color = 'blue', edgecolor = 'black', bins = 15)\n",
    "axs[0, 1].set_title('TOEFL Score')\n",
    "\n",
    "rating_bar = df['University Rating'].value_counts()\n",
    "axs[0, 2].bar(x=list(rating_bar.index), height=list(rating_bar.values), color = 'blue', edgecolor = 'black')\n",
    "axs[0, 2].set_title('University Rating')\n",
    "\n",
    "sop_bar = df['SOP'].value_counts()\n",
    "axs[1, 0].bar(x=list(sop_bar.index), height=list(sop_bar.values), color = 'blue', edgecolor = 'black', tick_label=list(sop_bar.index), width=.4)\n",
    "axs[1, 0].set_title('SOP')\n",
    "\n",
    "lor_bar = df['LOR'].value_counts()\n",
    "axs[1, 1].bar(x=list(lor_bar.index), height=list(lor_bar.values), color = 'blue', edgecolor = 'black', tick_label=list(lor_bar.index), width=.4)\n",
    "axs[1, 1].set_title('LOR')\n",
    "\n",
    "axs[1, 2].hist(df['CGPA'], color = 'blue', edgecolor = 'black', bins = 10)\n",
    "axs[1, 2].set_title('CGPA')\n",
    "\n",
    "research_bar = df['Research'].value_counts()\n",
    "axs[2, 0].bar(x=list(research_bar.index), height=list(research_bar.values), color = 'blue', edgecolor = 'black', tick_label=list(research_bar.index))\n",
    "axs[2, 0].set_title('Research')\n",
    "\n"
   ]
  },
  {
   "cell_type": "code",
   "execution_count": 90,
   "metadata": {},
   "outputs": [
    {
     "data": {
      "text/plain": [
       "<matplotlib.axes._subplots.AxesSubplot at 0x1a2c099c50>"
      ]
     },
     "execution_count": 90,
     "metadata": {},
     "output_type": "execute_result"
    },
    {
     "data": {
      "image/png": "[encoded data removed]",
      "text/plain": [
       "<Figure size 432x288 with 2 Axes>"
      ]
     },
     "metadata": {
      "needs_background": "light"
     },
     "output_type": "display_data"
    }
   ],
   "source": [
    "sns.heatmap(df.drop(columns=[\"Serial No.\"]).corr())"
   ]
  },
  {
   "cell_type": "markdown",
   "metadata": {},
   "source": [
    "---"
   ]
  },
  {
   "cell_type": "markdown",
   "metadata": {},
   "source": [
    "# Preprocessing / Data Cleaning"
   ]
  },
  {
   "cell_type": "markdown",
   "metadata": {},
   "source": [
    "#### Any NaNs?"
   ]
  },
  {
   "cell_type": "code",
   "execution_count": 36,
   "metadata": {},
   "outputs": [
    {
     "data": {
      "text/plain": [
       "0"
      ]
     },
     "execution_count": 36,
     "metadata": {},
     "output_type": "execute_result"
    }
   ],
   "source": [
    "df.isna().sum().sum()"
   ]
  },
  {
   "cell_type": "markdown",
   "metadata": {},
   "source": [
    "#### Outlier Detection\n",
    "Purpose: outlier detection"
   ]
  },
  {
   "cell_type": "code",
   "execution_count": 37,
   "metadata": {
    "scrolled": false
   },
   "outputs": [
    {
     "data": {
      "image/png": "[encoded data removed]",
      "text/plain": [
       "<Figure size 1080x1080 with 9 Axes>"
      ]
     },
     "metadata": {
      "needs_background": "light"
     },
     "output_type": "display_data"
    }
   ],
   "source": [
    "boxplot()"
   ]
  },
  {
   "cell_type": "markdown",
   "metadata": {},
   "source": [
    "There is one outlier visible in the LOR column."
   ]
  },
  {
   "cell_type": "code",
   "execution_count": 38,
   "metadata": {},
   "outputs": [],
   "source": [
    "df.drop(df[df[\"LOR\"] <  1.5].index, inplace=True)"
   ]
  },
  {
   "cell_type": "markdown",
   "metadata": {},
   "source": [
    "#### Replot after removing the outlier"
   ]
  },
  {
   "cell_type": "code",
   "execution_count": 39,
   "metadata": {},
   "outputs": [
    {
     "data": {
      "image/png": "[encoded data removed]",
      "text/plain": [
       "<Figure size 1080x1080 with 9 Axes>"
      ]
     },
     "metadata": {
      "needs_background": "light"
     },
     "output_type": "display_data"
    }
   ],
   "source": [
    "boxplot()"
   ]
  },
  {
   "cell_type": "markdown",
   "metadata": {},
   "source": [
    "---"
   ]
  },
  {
   "cell_type": "markdown",
   "metadata": {},
   "source": [
    "# Modeling"
   ]
  },
  {
   "cell_type": "code",
   "execution_count": 50,
   "metadata": {
    "scrolled": true
   },
   "outputs": [
    {
     "data": {
      "text/plain": [
       "Index(['Serial No.', 'GRE Score', 'TOEFL Score', 'University Rating', 'SOP',\n",
       "       'LOR', 'CGPA', 'Research', 'Chance of Admit'],\n",
       "      dtype='object')"
      ]
     },
     "execution_count": 50,
     "metadata": {},
     "output_type": "execute_result"
    }
   ],
   "source": [
    "df.columns"
   ]
  },
  {
   "cell_type": "code",
   "execution_count": 68,
   "metadata": {},
   "outputs": [],
   "source": [
    "#evaluation_df.loc[label] = [mse, rmse, mae, r2, error_max, error_min, error_std]\n",
    "evaluation_df = pd.DataFrame(columns=[\"MSE\", \"RMSE\", \"MAE\", \"R2\", \"Max Error\", \"Min Error\", \"STD Error\"])"
   ]
  },
  {
   "cell_type": "code",
   "execution_count": 165,
   "metadata": {},
   "outputs": [],
   "source": [
    "x = df[['GRE Score', 'TOEFL Score', 'University Rating', 'SOP',\n",
    "       'LOR', 'CGPA', 'Research']]\n",
    "\n",
    "y = df['Chance of Admit']\n",
    "\n",
    "x_train, x_test, y_train, y_test = train_test_split(x, y, test_size=.20)"
   ]
  },
  {
   "cell_type": "markdown",
   "metadata": {},
   "source": [
    "### Random Forest Regressor"
   ]
  },
  {
   "cell_type": "code",
   "execution_count": 229,
   "metadata": {},
   "outputs": [],
   "source": [
    "parameters = {\n",
    "    \"n_estimators\": [100, 1000, 10000],\n",
    "    \"max_depth\": [100, 1000],\n",
    "    \"oob_score\": [True, False],\n",
    "    #\"bootstrap\": [True, False]\n",
    "}\n",
    "\n",
    "RandomForestRegressor()\n",
    "cv = GridSearchCV(RandomForestRegressor(), param_grid=parameters, n_jobs=4, verbose=2)"
   ]
  },
  {
   "cell_type": "code",
   "execution_count": 230,
   "metadata": {},
   "outputs": [
    {
     "name": "stderr",
     "output_type": "stream",
     "text": [
      "/opt/anaconda3/lib/python3.7/site-packages/sklearn/model_selection/_split.py:1978: FutureWarning: The default value of cv will change from 3 to 5 in version 0.22. Specify it explicitly to silence this warning.\n",
      "  warnings.warn(CV_WARNING, FutureWarning)\n",
      "[Parallel(n_jobs=4)]: Using backend LokyBackend with 4 concurrent workers.\n"
     ]
    },
    {
     "name": "stdout",
     "output_type": "stream",
     "text": [
      "Fitting 3 folds for each of 12 candidates, totalling 36 fits\n"
     ]
    },
    {
     "name": "stderr",
     "output_type": "stream",
     "text": [
      "/opt/anaconda3/lib/python3.7/site-packages/joblib/externals/loky/process_executor.py:706: UserWarning: A worker stopped while some jobs were given to the executor. This can be caused by a too short worker timeout or by a memory leak.\n",
      "  \"timeout or by a memory leak.\", UserWarning\n",
      "[Parallel(n_jobs=4)]: Done  36 out of  36 | elapsed:  1.2min finished\n"
     ]
    },
    {
     "data": {
      "text/plain": [
       "GridSearchCV(cv='warn', error_score='raise-deprecating',\n",
       "             estimator=RandomForestRegressor(bootstrap=True, criterion='mse',\n",
       "                                             max_depth=None,\n",
       "                                             max_features='auto',\n",
       "                                             max_leaf_nodes=None,\n",
       "                                             min_impurity_decrease=0.0,\n",
       "                                             min_impurity_split=None,\n",
       "                                             min_samples_leaf=1,\n",
       "                                             min_samples_split=2,\n",
       "                                             min_weight_fraction_leaf=0.0,\n",
       "                                             n_estimators='warn', n_jobs=None,\n",
       "                                             oob_score=False, random_state=None,\n",
       "                                             verbose=0, warm_start=False),\n",
       "             iid='warn', n_jobs=4,\n",
       "             param_grid={'max_depth': [100, 1000],\n",
       "                         'n_estimators': [100, 1000, 10000],\n",
       "                         'oob_score': [True, False]},\n",
       "             pre_dispatch='2*n_jobs', refit=True, return_train_score=False,\n",
       "             scoring=None, verbose=2)"
      ]
     },
     "execution_count": 230,
     "metadata": {},
     "output_type": "execute_result"
    }
   ],
   "source": [
    "cv.fit(x_train, y_train)"
   ]
  },
  {
   "cell_type": "code",
   "execution_count": 231,
   "metadata": {},
   "outputs": [
    {
     "data": {
      "text/plain": [
       "{'max_depth': 100, 'n_estimators': 100, 'oob_score': True}"
      ]
     },
     "execution_count": 231,
     "metadata": {},
     "output_type": "execute_result"
    }
   ],
   "source": [
    "cv.best_params_"
   ]
  },
  {
   "cell_type": "code",
   "execution_count": 232,
   "metadata": {},
   "outputs": [
    {
     "data": {
      "text/html": [
       "<div>\n",
       "<style scoped>\n",
       "    .dataframe tbody tr th:only-of-type {\n",
       "        vertical-align: middle;\n",
       "    }\n",
       "\n",
       "    .dataframe tbody tr th {\n",
       "        vertical-align: top;\n",
       "    }\n",
       "\n",
       "    .dataframe thead th {\n",
       "        text-align: right;\n",
       "    }\n",
       "</style>\n",
       "<table border=\"1\" class=\"dataframe\">\n",
       "  <thead>\n",
       "    <tr style=\"text-align: right;\">\n",
       "      <th></th>\n",
       "      <th>MSE</th>\n",
       "      <th>RMSE</th>\n",
       "      <th>MAE</th>\n",
       "      <th>R2</th>\n",
       "      <th>Max Error</th>\n",
       "      <th>Min Error</th>\n",
       "      <th>STD Error</th>\n",
       "    </tr>\n",
       "  </thead>\n",
       "  <tbody>\n",
       "    <tr>\n",
       "      <td>RFR</td>\n",
       "      <td>0.005428</td>\n",
       "      <td>0.073678</td>\n",
       "      <td>0.049971</td>\n",
       "      <td>0.704041</td>\n",
       "      <td>0.241</td>\n",
       "      <td>0.000</td>\n",
       "      <td>0.054</td>\n",
       "    </tr>\n",
       "    <tr>\n",
       "      <td>RFR - bootstrap</td>\n",
       "      <td>0.005463</td>\n",
       "      <td>0.073915</td>\n",
       "      <td>0.050018</td>\n",
       "      <td>0.702136</td>\n",
       "      <td>0.256</td>\n",
       "      <td>0.001</td>\n",
       "      <td>0.054</td>\n",
       "    </tr>\n",
       "    <tr>\n",
       "      <td>RFR - test</td>\n",
       "      <td>0.003607</td>\n",
       "      <td>0.060057</td>\n",
       "      <td>0.042136</td>\n",
       "      <td>0.816492</td>\n",
       "      <td>0.275</td>\n",
       "      <td>0.000</td>\n",
       "      <td>0.043</td>\n",
       "    </tr>\n",
       "    <tr>\n",
       "      <td>RFR - most relevant features</td>\n",
       "      <td>0.005045</td>\n",
       "      <td>0.071030</td>\n",
       "      <td>0.048295</td>\n",
       "      <td>0.745574</td>\n",
       "      <td>0.297</td>\n",
       "      <td>0.001</td>\n",
       "      <td>0.052</td>\n",
       "    </tr>\n",
       "    <tr>\n",
       "      <td>SVR</td>\n",
       "      <td>0.020593</td>\n",
       "      <td>0.143503</td>\n",
       "      <td>0.117100</td>\n",
       "      <td>-0.084699</td>\n",
       "      <td>0.315</td>\n",
       "      <td>0.005</td>\n",
       "      <td>0.083</td>\n",
       "    </tr>\n",
       "    <tr>\n",
       "      <td>Linear - default parameters</td>\n",
       "      <td>0.003215</td>\n",
       "      <td>0.056704</td>\n",
       "      <td>0.042468</td>\n",
       "      <td>0.836409</td>\n",
       "      <td>0.225</td>\n",
       "      <td>0.001</td>\n",
       "      <td>0.038</td>\n",
       "    </tr>\n",
       "  </tbody>\n",
       "</table>\n",
       "</div>"
      ],
      "text/plain": [
       "                                   MSE      RMSE       MAE        R2  \\\n",
       "RFR                           0.005428  0.073678  0.049971  0.704041   \n",
       "RFR - bootstrap               0.005463  0.073915  0.050018  0.702136   \n",
       "RFR - test                    0.003607  0.060057  0.042136  0.816492   \n",
       "RFR - most relevant features  0.005045  0.071030  0.048295  0.745574   \n",
       "SVR                           0.020593  0.143503  0.117100 -0.084699   \n",
       "Linear - default parameters   0.003215  0.056704  0.042468  0.836409   \n",
       "\n",
       "                              Max Error  Min Error  STD Error  \n",
       "RFR                               0.241      0.000      0.054  \n",
       "RFR - bootstrap                   0.256      0.001      0.054  \n",
       "RFR - test                        0.275      0.000      0.043  \n",
       "RFR - most relevant features      0.297      0.001      0.052  \n",
       "SVR                               0.315      0.005      0.083  \n",
       "Linear - default parameters       0.225      0.001      0.038  "
      ]
     },
     "execution_count": 232,
     "metadata": {},
     "output_type": "execute_result"
    },
    {
     "data": {
      "image/png": "[encoded data removed]",
      "text/plain": [
       "<Figure size 432x288 with 1 Axes>"
      ]
     },
     "metadata": {
      "needs_background": "light"
     },
     "output_type": "display_data"
    }
   ],
   "source": [
    "evaluate(\"RFR - test\", cv.best_estimator_, x_test, y_test)"
   ]
  },
  {
   "cell_type": "markdown",
   "metadata": {},
   "source": [
    "#### Best run: 81.6 R2."
   ]
  },
  {
   "cell_type": "code",
   "execution_count": 233,
   "metadata": {},
   "outputs": [],
   "source": [
    "with open(\"Model1: RFR.pickle\", \"wb\") as file:\n",
    "    pickle.dump(cv.best_estimator_, file)"
   ]
  },
  {
   "cell_type": "markdown",
   "metadata": {},
   "source": [
    "### RFR, but with only the more relevant features..\n",
    "Determined by the heatmap above"
   ]
  },
  {
   "cell_type": "code",
   "execution_count": 259,
   "metadata": {},
   "outputs": [],
   "source": [
    "x = df[['GRE Score', 'TOEFL Score', 'University Rating', 'SOP', 'CGPA']]\n",
    "\n",
    "y = df['Chance of Admit']\n",
    "\n",
    "x_train, x_test, y_train, y_test = train_test_split(x, y, test_size=.20)\n",
    "\n",
    "parameters = {\n",
    "    \"n_estimators\": [100, 1000, 10000],\n",
    "    \"max_depth\": [100, 1000, 10000],\n",
    "    \"oob_score\": [True, False],\n",
    "    #\"bootstrap\": [True, False]\n",
    "}\n",
    "\n",
    "RandomForestRegressor()\n",
    "cv = GridSearchCV(RandomForestRegressor(), param_grid=parameters, n_jobs=4, verbose=2)"
   ]
  },
  {
   "cell_type": "code",
   "execution_count": 260,
   "metadata": {},
   "outputs": [
    {
     "name": "stderr",
     "output_type": "stream",
     "text": [
      "/opt/anaconda3/lib/python3.7/site-packages/sklearn/model_selection/_split.py:1978: FutureWarning: The default value of cv will change from 3 to 5 in version 0.22. Specify it explicitly to silence this warning.\n",
      "  warnings.warn(CV_WARNING, FutureWarning)\n",
      "[Parallel(n_jobs=4)]: Using backend LokyBackend with 4 concurrent workers.\n"
     ]
    },
    {
     "name": "stdout",
     "output_type": "stream",
     "text": [
      "Fitting 3 folds for each of 18 candidates, totalling 54 fits\n"
     ]
    },
    {
     "name": "stderr",
     "output_type": "stream",
     "text": [
      "/opt/anaconda3/lib/python3.7/site-packages/joblib/externals/loky/process_executor.py:706: UserWarning: A worker stopped while some jobs were given to the executor. This can be caused by a too short worker timeout or by a memory leak.\n",
      "  \"timeout or by a memory leak.\", UserWarning\n",
      "[Parallel(n_jobs=4)]: Done  41 tasks      | elapsed:   56.8s\n",
      "[Parallel(n_jobs=4)]: Done  54 out of  54 | elapsed:  1.6min finished\n"
     ]
    },
    {
     "data": {
      "text/plain": [
       "GridSearchCV(cv='warn', error_score='raise-deprecating',\n",
       "             estimator=RandomForestRegressor(bootstrap=True, criterion='mse',\n",
       "                                             max_depth=None,\n",
       "                                             max_features='auto',\n",
       "                                             max_leaf_nodes=None,\n",
       "                                             min_impurity_decrease=0.0,\n",
       "                                             min_impurity_split=None,\n",
       "                                             min_samples_leaf=1,\n",
       "                                             min_samples_split=2,\n",
       "                                             min_weight_fraction_leaf=0.0,\n",
       "                                             n_estimators='warn', n_jobs=None,\n",
       "                                             oob_score=False, random_state=None,\n",
       "                                             verbose=0, warm_start=False),\n",
       "             iid='warn', n_jobs=4,\n",
       "             param_grid={'max_depth': [100, 1000, 10000],\n",
       "                         'n_estimators': [100, 1000, 10000],\n",
       "                         'oob_score': [True, False]},\n",
       "             pre_dispatch='2*n_jobs', refit=True, return_train_score=False,\n",
       "             scoring=None, verbose=2)"
      ]
     },
     "execution_count": 260,
     "metadata": {},
     "output_type": "execute_result"
    }
   ],
   "source": [
    "cv.fit(x_train, y_train)"
   ]
  },
  {
   "cell_type": "code",
   "execution_count": 261,
   "metadata": {},
   "outputs": [
    {
     "data": {
      "text/plain": [
       "{'max_depth': 10000, 'n_estimators': 100, 'oob_score': False}"
      ]
     },
     "execution_count": 261,
     "metadata": {},
     "output_type": "execute_result"
    }
   ],
   "source": [
    "cv.best_params_"
   ]
  },
  {
   "cell_type": "code",
   "execution_count": 262,
   "metadata": {},
   "outputs": [
    {
     "data": {
      "text/html": [
       "<div>\n",
       "<style scoped>\n",
       "    .dataframe tbody tr th:only-of-type {\n",
       "        vertical-align: middle;\n",
       "    }\n",
       "\n",
       "    .dataframe tbody tr th {\n",
       "        vertical-align: top;\n",
       "    }\n",
       "\n",
       "    .dataframe thead th {\n",
       "        text-align: right;\n",
       "    }\n",
       "</style>\n",
       "<table border=\"1\" class=\"dataframe\">\n",
       "  <thead>\n",
       "    <tr style=\"text-align: right;\">\n",
       "      <th></th>\n",
       "      <th>MSE</th>\n",
       "      <th>RMSE</th>\n",
       "      <th>MAE</th>\n",
       "      <th>R2</th>\n",
       "      <th>Max Error</th>\n",
       "      <th>Min Error</th>\n",
       "      <th>STD Error</th>\n",
       "    </tr>\n",
       "  </thead>\n",
       "  <tbody>\n",
       "    <tr>\n",
       "      <td>RFR</td>\n",
       "      <td>0.005428</td>\n",
       "      <td>0.073678</td>\n",
       "      <td>0.049971</td>\n",
       "      <td>0.704041</td>\n",
       "      <td>0.241</td>\n",
       "      <td>0.000</td>\n",
       "      <td>0.054</td>\n",
       "    </tr>\n",
       "    <tr>\n",
       "      <td>RFR - bootstrap</td>\n",
       "      <td>0.005463</td>\n",
       "      <td>0.073915</td>\n",
       "      <td>0.050018</td>\n",
       "      <td>0.702136</td>\n",
       "      <td>0.256</td>\n",
       "      <td>0.001</td>\n",
       "      <td>0.054</td>\n",
       "    </tr>\n",
       "    <tr>\n",
       "      <td>RFR - test</td>\n",
       "      <td>0.003607</td>\n",
       "      <td>0.060057</td>\n",
       "      <td>0.042136</td>\n",
       "      <td>0.816492</td>\n",
       "      <td>0.275</td>\n",
       "      <td>0.000</td>\n",
       "      <td>0.043</td>\n",
       "    </tr>\n",
       "    <tr>\n",
       "      <td>RFR - most relevant features</td>\n",
       "      <td>0.003986</td>\n",
       "      <td>0.063138</td>\n",
       "      <td>0.045864</td>\n",
       "      <td>0.812195</td>\n",
       "      <td>0.270</td>\n",
       "      <td>0.000</td>\n",
       "      <td>0.043</td>\n",
       "    </tr>\n",
       "    <tr>\n",
       "      <td>SVR</td>\n",
       "      <td>0.020593</td>\n",
       "      <td>0.143503</td>\n",
       "      <td>0.117100</td>\n",
       "      <td>-0.084699</td>\n",
       "      <td>0.315</td>\n",
       "      <td>0.005</td>\n",
       "      <td>0.083</td>\n",
       "    </tr>\n",
       "    <tr>\n",
       "      <td>Linear</td>\n",
       "      <td>0.002735</td>\n",
       "      <td>0.052294</td>\n",
       "      <td>0.038973</td>\n",
       "      <td>0.857626</td>\n",
       "      <td>0.183</td>\n",
       "      <td>0.000</td>\n",
       "      <td>0.035</td>\n",
       "    </tr>\n",
       "  </tbody>\n",
       "</table>\n",
       "</div>"
      ],
      "text/plain": [
       "                                   MSE      RMSE       MAE        R2  \\\n",
       "RFR                           0.005428  0.073678  0.049971  0.704041   \n",
       "RFR - bootstrap               0.005463  0.073915  0.050018  0.702136   \n",
       "RFR - test                    0.003607  0.060057  0.042136  0.816492   \n",
       "RFR - most relevant features  0.003986  0.063138  0.045864  0.812195   \n",
       "SVR                           0.020593  0.143503  0.117100 -0.084699   \n",
       "Linear                        0.002735  0.052294  0.038973  0.857626   \n",
       "\n",
       "                              Max Error  Min Error  STD Error  \n",
       "RFR                               0.241      0.000      0.054  \n",
       "RFR - bootstrap                   0.256      0.001      0.054  \n",
       "RFR - test                        0.275      0.000      0.043  \n",
       "RFR - most relevant features      0.270      0.000      0.043  \n",
       "SVR                               0.315      0.005      0.083  \n",
       "Linear                            0.183      0.000      0.035  "
      ]
     },
     "execution_count": 262,
     "metadata": {},
     "output_type": "execute_result"
    },
    {
     "data": {
      "image/png": "[encoded data removed]",
      "text/plain": [
       "<Figure size 432x288 with 1 Axes>"
      ]
     },
     "metadata": {
      "needs_background": "light"
     },
     "output_type": "display_data"
    }
   ],
   "source": [
    "evaluate(\"RFR - most relevant features\", cv.best_estimator_, x_test, y_test)"
   ]
  },
  {
   "cell_type": "markdown",
   "metadata": {},
   "source": [
    "So far, the RFR model with  the most relevant features performed best.."
   ]
  },
  {
   "cell_type": "code",
   "execution_count": 107,
   "metadata": {},
   "outputs": [],
   "source": [
    "with open(\"Model1: RFR, relevant features.pickle\", \"wb\") as file:\n",
    "    pickle.dump(cv.best_estimator_, file)"
   ]
  },
  {
   "cell_type": "markdown",
   "metadata": {},
   "source": [
    "### Support Vector Regressor"
   ]
  },
  {
   "cell_type": "code",
   "execution_count": 159,
   "metadata": {},
   "outputs": [
    {
     "name": "stderr",
     "output_type": "stream",
     "text": [
      "/opt/anaconda3/lib/python3.7/site-packages/sklearn/preprocessing/data.py:2239: UserWarning: n_quantiles (1000) is greater than the total number of samples (399). n_quantiles is set to n_samples.\n",
      "  % (self.n_quantiles, n_samples))\n"
     ]
    }
   ],
   "source": [
    "x = df[['GRE Score', 'TOEFL Score', 'University Rating', 'SOP',\n",
    "       'LOR', 'CGPA', 'Research']]\n",
    "\n",
    "y = df['Chance of Admit']\n",
    "\n",
    "x_train, x_test, y_train, y_test = train_test_split(x, y, test_size=.20)\n",
    "\n",
    "# scaler = StandardScaler().fit(x_train)\n",
    "# X_train = scaler.transform(x_train)\n",
    "# x_test = scaler.transform(x_test)\n",
    "\n",
    "quantile_transformer = QuantileTransformer(random_state=0)\n",
    "x_train = quantile_transformer.fit_transform(x_train)\n",
    "x_test = quantile_transformer.transform(x_test)"
   ]
  },
  {
   "cell_type": "code",
   "execution_count": 160,
   "metadata": {},
   "outputs": [],
   "source": [
    "parameters = {\n",
    "    \"kernel\": [\"poly\"],\n",
    "    \"degree\": [2, 3],\n",
    "    \"coef0\": [0, .1],\n",
    "    \"gamma\": [\"scale\", 1e-8],\n",
    "    \"C\": [800, 2000],\n",
    "    \"epsilon\": [9, 10, 11],\n",
    "    \"shrinking\": [True, False],\n",
    "    \"cache_size\": [200]\n",
    "}\n",
    "\n",
    "svm.SVR()\n",
    "cv = GridSearchCV(svm.SVR(), param_grid=parameters, n_jobs=4, verbose=2)"
   ]
  },
  {
   "cell_type": "code",
   "execution_count": 161,
   "metadata": {},
   "outputs": [
    {
     "name": "stderr",
     "output_type": "stream",
     "text": [
      "/opt/anaconda3/lib/python3.7/site-packages/sklearn/model_selection/_split.py:1978: FutureWarning: The default value of cv will change from 3 to 5 in version 0.22. Specify it explicitly to silence this warning.\n",
      "  warnings.warn(CV_WARNING, FutureWarning)\n",
      "[Parallel(n_jobs=4)]: Using backend LokyBackend with 4 concurrent workers.\n"
     ]
    },
    {
     "name": "stdout",
     "output_type": "stream",
     "text": [
      "Fitting 3 folds for each of 96 candidates, totalling 288 fits\n"
     ]
    },
    {
     "name": "stderr",
     "output_type": "stream",
     "text": [
      "[Parallel(n_jobs=4)]: Done 288 out of 288 | elapsed:    0.2s finished\n"
     ]
    },
    {
     "data": {
      "text/plain": [
       "GridSearchCV(cv='warn', error_score='raise-deprecating',\n",
       "             estimator=SVR(C=1.0, cache_size=200, coef0=0.0, degree=3,\n",
       "                           epsilon=0.1, gamma='auto_deprecated', kernel='rbf',\n",
       "                           max_iter=-1, shrinking=True, tol=0.001,\n",
       "                           verbose=False),\n",
       "             iid='warn', n_jobs=4,\n",
       "             param_grid={'C': [800, 2000], 'cache_size': [200],\n",
       "                         'coef0': [0, 0.1], 'degree': [2, 3],\n",
       "                         'epsilon': [9, 10, 11], 'gamma': ['scale', 1e-08],\n",
       "                         'kernel': ['poly'], 'shrinking': [True, False]},\n",
       "             pre_dispatch='2*n_jobs', refit=True, return_train_score=False,\n",
       "             scoring=None, verbose=2)"
      ]
     },
     "execution_count": 161,
     "metadata": {},
     "output_type": "execute_result"
    }
   ],
   "source": [
    "cv.fit(x_train, y_train)"
   ]
  },
  {
   "cell_type": "code",
   "execution_count": 162,
   "metadata": {},
   "outputs": [
    {
     "data": {
      "text/plain": [
       "{'C': 800,\n",
       " 'cache_size': 200,\n",
       " 'coef0': 0,\n",
       " 'degree': 2,\n",
       " 'epsilon': 9,\n",
       " 'gamma': 'scale',\n",
       " 'kernel': 'poly',\n",
       " 'shrinking': True}"
      ]
     },
     "execution_count": 162,
     "metadata": {},
     "output_type": "execute_result"
    }
   ],
   "source": [
    "cv.best_params_"
   ]
  },
  {
   "cell_type": "code",
   "execution_count": 163,
   "metadata": {},
   "outputs": [
    {
     "data": {
      "text/html": [
       "<div>\n",
       "<style scoped>\n",
       "    .dataframe tbody tr th:only-of-type {\n",
       "        vertical-align: middle;\n",
       "    }\n",
       "\n",
       "    .dataframe tbody tr th {\n",
       "        vertical-align: top;\n",
       "    }\n",
       "\n",
       "    .dataframe thead th {\n",
       "        text-align: right;\n",
       "    }\n",
       "</style>\n",
       "<table border=\"1\" class=\"dataframe\">\n",
       "  <thead>\n",
       "    <tr style=\"text-align: right;\">\n",
       "      <th></th>\n",
       "      <th>MSE</th>\n",
       "      <th>RMSE</th>\n",
       "      <th>MAE</th>\n",
       "      <th>R2</th>\n",
       "      <th>Max Error</th>\n",
       "      <th>Min Error</th>\n",
       "      <th>STD Error</th>\n",
       "    </tr>\n",
       "  </thead>\n",
       "  <tbody>\n",
       "    <tr>\n",
       "      <td>RFR</td>\n",
       "      <td>0.005428</td>\n",
       "      <td>0.073678</td>\n",
       "      <td>0.049971</td>\n",
       "      <td>0.704041</td>\n",
       "      <td>0.241</td>\n",
       "      <td>0.000</td>\n",
       "      <td>0.054</td>\n",
       "    </tr>\n",
       "    <tr>\n",
       "      <td>RFR - bootstrap</td>\n",
       "      <td>0.005463</td>\n",
       "      <td>0.073915</td>\n",
       "      <td>0.050018</td>\n",
       "      <td>0.702136</td>\n",
       "      <td>0.256</td>\n",
       "      <td>0.001</td>\n",
       "      <td>0.054</td>\n",
       "    </tr>\n",
       "    <tr>\n",
       "      <td>RFR - test</td>\n",
       "      <td>0.005451</td>\n",
       "      <td>0.073831</td>\n",
       "      <td>0.050007</td>\n",
       "      <td>0.702812</td>\n",
       "      <td>0.252</td>\n",
       "      <td>0.000</td>\n",
       "      <td>0.054</td>\n",
       "    </tr>\n",
       "    <tr>\n",
       "      <td>RFR - most relevant features</td>\n",
       "      <td>0.005045</td>\n",
       "      <td>0.071030</td>\n",
       "      <td>0.048295</td>\n",
       "      <td>0.745574</td>\n",
       "      <td>0.297</td>\n",
       "      <td>0.001</td>\n",
       "      <td>0.052</td>\n",
       "    </tr>\n",
       "    <tr>\n",
       "      <td>SVR</td>\n",
       "      <td>0.020593</td>\n",
       "      <td>0.143503</td>\n",
       "      <td>0.117100</td>\n",
       "      <td>-0.084699</td>\n",
       "      <td>0.315</td>\n",
       "      <td>0.005</td>\n",
       "      <td>0.083</td>\n",
       "    </tr>\n",
       "  </tbody>\n",
       "</table>\n",
       "</div>"
      ],
      "text/plain": [
       "                                   MSE      RMSE       MAE        R2  \\\n",
       "RFR                           0.005428  0.073678  0.049971  0.704041   \n",
       "RFR - bootstrap               0.005463  0.073915  0.050018  0.702136   \n",
       "RFR - test                    0.005451  0.073831  0.050007  0.702812   \n",
       "RFR - most relevant features  0.005045  0.071030  0.048295  0.745574   \n",
       "SVR                           0.020593  0.143503  0.117100 -0.084699   \n",
       "\n",
       "                              Max Error  Min Error  STD Error  \n",
       "RFR                               0.241      0.000      0.054  \n",
       "RFR - bootstrap                   0.256      0.001      0.054  \n",
       "RFR - test                        0.252      0.000      0.054  \n",
       "RFR - most relevant features      0.297      0.001      0.052  \n",
       "SVR                               0.315      0.005      0.083  "
      ]
     },
     "execution_count": 163,
     "metadata": {},
     "output_type": "execute_result"
    },
    {
     "data": {
      "image/png": "[encoded data removed]",
      "text/plain": [
       "<Figure size 432x288 with 1 Axes>"
      ]
     },
     "metadata": {
      "needs_background": "light"
     },
     "output_type": "display_data"
    }
   ],
   "source": [
    "evaluate(\"SVR\", cv.best_estimator_, x_test, y_test)"
   ]
  },
  {
   "cell_type": "markdown",
   "metadata": {},
   "source": [
    "### Simple Linear Regression"
   ]
  },
  {
   "cell_type": "code",
   "execution_count": 263,
   "metadata": {},
   "outputs": [
    {
     "name": "stdout",
     "output_type": "stream",
     "text": [
      "Fitting 3 folds for each of 8 candidates, totalling 24 fits\n"
     ]
    },
    {
     "name": "stderr",
     "output_type": "stream",
     "text": [
      "/opt/anaconda3/lib/python3.7/site-packages/sklearn/model_selection/_split.py:1978: FutureWarning: The default value of cv will change from 3 to 5 in version 0.22. Specify it explicitly to silence this warning.\n",
      "  warnings.warn(CV_WARNING, FutureWarning)\n",
      "[Parallel(n_jobs=4)]: Using backend LokyBackend with 4 concurrent workers.\n",
      "[Parallel(n_jobs=4)]: Done  24 out of  24 | elapsed:    2.0s finished\n"
     ]
    },
    {
     "data": {
      "text/html": [
       "<div>\n",
       "<style scoped>\n",
       "    .dataframe tbody tr th:only-of-type {\n",
       "        vertical-align: middle;\n",
       "    }\n",
       "\n",
       "    .dataframe tbody tr th {\n",
       "        vertical-align: top;\n",
       "    }\n",
       "\n",
       "    .dataframe thead th {\n",
       "        text-align: right;\n",
       "    }\n",
       "</style>\n",
       "<table border=\"1\" class=\"dataframe\">\n",
       "  <thead>\n",
       "    <tr style=\"text-align: right;\">\n",
       "      <th></th>\n",
       "      <th>MSE</th>\n",
       "      <th>RMSE</th>\n",
       "      <th>MAE</th>\n",
       "      <th>R2</th>\n",
       "      <th>Max Error</th>\n",
       "      <th>Min Error</th>\n",
       "      <th>STD Error</th>\n",
       "    </tr>\n",
       "  </thead>\n",
       "  <tbody>\n",
       "    <tr>\n",
       "      <td>RFR</td>\n",
       "      <td>0.005428</td>\n",
       "      <td>0.073678</td>\n",
       "      <td>0.049971</td>\n",
       "      <td>0.704041</td>\n",
       "      <td>0.241</td>\n",
       "      <td>0.000</td>\n",
       "      <td>0.054</td>\n",
       "    </tr>\n",
       "    <tr>\n",
       "      <td>RFR - bootstrap</td>\n",
       "      <td>0.005463</td>\n",
       "      <td>0.073915</td>\n",
       "      <td>0.050018</td>\n",
       "      <td>0.702136</td>\n",
       "      <td>0.256</td>\n",
       "      <td>0.001</td>\n",
       "      <td>0.054</td>\n",
       "    </tr>\n",
       "    <tr>\n",
       "      <td>RFR - test</td>\n",
       "      <td>0.003607</td>\n",
       "      <td>0.060057</td>\n",
       "      <td>0.042136</td>\n",
       "      <td>0.816492</td>\n",
       "      <td>0.275</td>\n",
       "      <td>0.000</td>\n",
       "      <td>0.043</td>\n",
       "    </tr>\n",
       "    <tr>\n",
       "      <td>RFR - most relevant features</td>\n",
       "      <td>0.003986</td>\n",
       "      <td>0.063138</td>\n",
       "      <td>0.045864</td>\n",
       "      <td>0.812195</td>\n",
       "      <td>0.270</td>\n",
       "      <td>0.000</td>\n",
       "      <td>0.043</td>\n",
       "    </tr>\n",
       "    <tr>\n",
       "      <td>SVR</td>\n",
       "      <td>0.020593</td>\n",
       "      <td>0.143503</td>\n",
       "      <td>0.117100</td>\n",
       "      <td>-0.084699</td>\n",
       "      <td>0.315</td>\n",
       "      <td>0.005</td>\n",
       "      <td>0.083</td>\n",
       "    </tr>\n",
       "    <tr>\n",
       "      <td>Linear</td>\n",
       "      <td>0.002142</td>\n",
       "      <td>0.046286</td>\n",
       "      <td>0.034126</td>\n",
       "      <td>0.878837</td>\n",
       "      <td>0.172</td>\n",
       "      <td>0.000</td>\n",
       "      <td>0.031</td>\n",
       "    </tr>\n",
       "  </tbody>\n",
       "</table>\n",
       "</div>"
      ],
      "text/plain": [
       "                                   MSE      RMSE       MAE        R2  \\\n",
       "RFR                           0.005428  0.073678  0.049971  0.704041   \n",
       "RFR - bootstrap               0.005463  0.073915  0.050018  0.702136   \n",
       "RFR - test                    0.003607  0.060057  0.042136  0.816492   \n",
       "RFR - most relevant features  0.003986  0.063138  0.045864  0.812195   \n",
       "SVR                           0.020593  0.143503  0.117100 -0.084699   \n",
       "Linear                        0.002142  0.046286  0.034126  0.878837   \n",
       "\n",
       "                              Max Error  Min Error  STD Error  \n",
       "RFR                               0.241      0.000      0.054  \n",
       "RFR - bootstrap                   0.256      0.001      0.054  \n",
       "RFR - test                        0.275      0.000      0.043  \n",
       "RFR - most relevant features      0.270      0.000      0.043  \n",
       "SVR                               0.315      0.005      0.083  \n",
       "Linear                            0.172      0.000      0.031  "
      ]
     },
     "execution_count": 263,
     "metadata": {},
     "output_type": "execute_result"
    },
    {
     "data": {
      "image/png": "[encoded data removed]",
      "text/plain": [
       "<Figure size 432x288 with 1 Axes>"
      ]
     },
     "metadata": {
      "needs_background": "light"
     },
     "output_type": "display_data"
    }
   ],
   "source": [
    "x = df[['GRE Score', 'TOEFL Score', 'University Rating', 'SOP', 'CGPA']]\n",
    "\n",
    "y = df['Chance of Admit']\n",
    "\n",
    "x_train, x_test, y_train, y_test = train_test_split(x, y, test_size=.20)\n",
    "\n",
    "\n",
    "parameters = {\n",
    "    \"fit_intercept\": [True, False],\n",
    "    \"normalize\": [True, False],\n",
    "    \"copy_X\": [True, False]\n",
    "}\n",
    "\n",
    "cv = GridSearchCV(linear_model.LinearRegression(), param_grid=parameters, n_jobs=4, verbose=2)\n",
    "\n",
    "cv.fit(x_train, y_train)\n",
    "evaluate(\"Linear\", cv.best_estimator_, x_test, y_test)"
   ]
  },
  {
   "cell_type": "markdown",
   "metadata": {},
   "source": [
    "To my surprise, linear performed better than many of the other models.\n",
    "#### Best run had an R2 of ~88.\n",
    "Note: I believe the change in the metric values with every run is due to the change in the train and test sets, since I am not setting the random_state parameter of the train_test_split function."
   ]
  },
  {
   "cell_type": "code",
   "execution_count": 264,
   "metadata": {},
   "outputs": [],
   "source": [
    "with open(\"Model2: Linear Regression, relevant features, 88 R2.pickle\", \"wb\") as file:\n",
    "    pickle.dump(cv.best_estimator_, file)"
   ]
  },
  {
   "cell_type": "markdown",
   "metadata": {},
   "source": [
    "# Running Linear Regression with all features\n",
    "to extract feature importance."
   ]
  },
  {
   "cell_type": "code",
   "execution_count": 286,
   "metadata": {},
   "outputs": [
    {
     "name": "stdout",
     "output_type": "stream",
     "text": [
      "Fitting 3 folds for each of 8 candidates, totalling 24 fits\n"
     ]
    },
    {
     "name": "stderr",
     "output_type": "stream",
     "text": [
      "/opt/anaconda3/lib/python3.7/site-packages/sklearn/model_selection/_split.py:1978: FutureWarning: The default value of cv will change from 3 to 5 in version 0.22. Specify it explicitly to silence this warning.\n",
      "  warnings.warn(CV_WARNING, FutureWarning)\n",
      "[Parallel(n_jobs=4)]: Using backend LokyBackend with 4 concurrent workers.\n",
      "[Parallel(n_jobs=4)]: Done   4 out of  24 | elapsed:    0.0s remaining:    0.1s\n",
      "[Parallel(n_jobs=4)]: Done  24 out of  24 | elapsed:    0.1s finished\n"
     ]
    },
    {
     "data": {
      "text/html": [
       "<div>\n",
       "<style scoped>\n",
       "    .dataframe tbody tr th:only-of-type {\n",
       "        vertical-align: middle;\n",
       "    }\n",
       "\n",
       "    .dataframe tbody tr th {\n",
       "        vertical-align: top;\n",
       "    }\n",
       "\n",
       "    .dataframe thead th {\n",
       "        text-align: right;\n",
       "    }\n",
       "</style>\n",
       "<table border=\"1\" class=\"dataframe\">\n",
       "  <thead>\n",
       "    <tr style=\"text-align: right;\">\n",
       "      <th></th>\n",
       "      <th>MSE</th>\n",
       "      <th>RMSE</th>\n",
       "      <th>MAE</th>\n",
       "      <th>R2</th>\n",
       "      <th>Max Error</th>\n",
       "      <th>Min Error</th>\n",
       "      <th>STD Error</th>\n",
       "    </tr>\n",
       "  </thead>\n",
       "  <tbody>\n",
       "    <tr>\n",
       "      <td>RFR</td>\n",
       "      <td>0.005428</td>\n",
       "      <td>0.073678</td>\n",
       "      <td>0.049971</td>\n",
       "      <td>0.704041</td>\n",
       "      <td>0.241</td>\n",
       "      <td>0.000</td>\n",
       "      <td>0.054</td>\n",
       "    </tr>\n",
       "    <tr>\n",
       "      <td>RFR - bootstrap</td>\n",
       "      <td>0.005463</td>\n",
       "      <td>0.073915</td>\n",
       "      <td>0.050018</td>\n",
       "      <td>0.702136</td>\n",
       "      <td>0.256</td>\n",
       "      <td>0.001</td>\n",
       "      <td>0.054</td>\n",
       "    </tr>\n",
       "    <tr>\n",
       "      <td>RFR - test</td>\n",
       "      <td>0.003607</td>\n",
       "      <td>0.060057</td>\n",
       "      <td>0.042136</td>\n",
       "      <td>0.816492</td>\n",
       "      <td>0.275</td>\n",
       "      <td>0.000</td>\n",
       "      <td>0.043</td>\n",
       "    </tr>\n",
       "    <tr>\n",
       "      <td>RFR - most relevant features</td>\n",
       "      <td>0.003986</td>\n",
       "      <td>0.063138</td>\n",
       "      <td>0.045864</td>\n",
       "      <td>0.812195</td>\n",
       "      <td>0.270</td>\n",
       "      <td>0.000</td>\n",
       "      <td>0.043</td>\n",
       "    </tr>\n",
       "    <tr>\n",
       "      <td>SVR</td>\n",
       "      <td>0.020593</td>\n",
       "      <td>0.143503</td>\n",
       "      <td>0.117100</td>\n",
       "      <td>-0.084699</td>\n",
       "      <td>0.315</td>\n",
       "      <td>0.005</td>\n",
       "      <td>0.083</td>\n",
       "    </tr>\n",
       "    <tr>\n",
       "      <td>Linear</td>\n",
       "      <td>0.002142</td>\n",
       "      <td>0.046286</td>\n",
       "      <td>0.034126</td>\n",
       "      <td>0.878837</td>\n",
       "      <td>0.172</td>\n",
       "      <td>0.000</td>\n",
       "      <td>0.031</td>\n",
       "    </tr>\n",
       "    <tr>\n",
       "      <td>Linear - all features</td>\n",
       "      <td>0.003790</td>\n",
       "      <td>0.061560</td>\n",
       "      <td>0.043009</td>\n",
       "      <td>0.806061</td>\n",
       "      <td>0.235</td>\n",
       "      <td>0.001</td>\n",
       "      <td>0.044</td>\n",
       "    </tr>\n",
       "  </tbody>\n",
       "</table>\n",
       "</div>"
      ],
      "text/plain": [
       "                                   MSE      RMSE       MAE        R2  \\\n",
       "RFR                           0.005428  0.073678  0.049971  0.704041   \n",
       "RFR - bootstrap               0.005463  0.073915  0.050018  0.702136   \n",
       "RFR - test                    0.003607  0.060057  0.042136  0.816492   \n",
       "RFR - most relevant features  0.003986  0.063138  0.045864  0.812195   \n",
       "SVR                           0.020593  0.143503  0.117100 -0.084699   \n",
       "Linear                        0.002142  0.046286  0.034126  0.878837   \n",
       "Linear - all features         0.003790  0.061560  0.043009  0.806061   \n",
       "\n",
       "                              Max Error  Min Error  STD Error  \n",
       "RFR                               0.241      0.000      0.054  \n",
       "RFR - bootstrap                   0.256      0.001      0.054  \n",
       "RFR - test                        0.275      0.000      0.043  \n",
       "RFR - most relevant features      0.270      0.000      0.043  \n",
       "SVR                               0.315      0.005      0.083  \n",
       "Linear                            0.172      0.000      0.031  \n",
       "Linear - all features             0.235      0.001      0.044  "
      ]
     },
     "execution_count": 286,
     "metadata": {},
     "output_type": "execute_result"
    },
    {
     "data": {
      "image/png": "[encoded data removed]",
      "text/plain": [
       "<Figure size 432x288 with 1 Axes>"
      ]
     },
     "metadata": {
      "needs_background": "light"
     },
     "output_type": "display_data"
    }
   ],
   "source": [
    "x = df[['GRE Score', 'TOEFL Score', 'University Rating', 'SOP',\n",
    "       'LOR', 'CGPA', 'Research']]\n",
    "\n",
    "y = df['Chance of Admit']\n",
    "\n",
    "x_train, x_test, y_train, y_test = train_test_split(x, y, test_size=.20)\n",
    "\n",
    "\n",
    "parameters = {\n",
    "    \"fit_intercept\": [True, False],\n",
    "    \"normalize\": [True, False],\n",
    "    \"copy_X\": [True, False]\n",
    "}\n",
    "\n",
    "cv = GridSearchCV(linear_model.LinearRegression(), param_grid=parameters, n_jobs=4, verbose=2)\n",
    "\n",
    "cv.fit(x_train, y_train)\n",
    "evaluate(\"Linear - all features\", cv.best_estimator_, x_test, y_test)"
   ]
  },
  {
   "cell_type": "code",
   "execution_count": 287,
   "metadata": {},
   "outputs": [
    {
     "data": {
      "text/plain": [
       "CGPA                 0.119465\n",
       "Research             0.018236\n",
       "LOR                  0.014774\n",
       "University Rating    0.006533\n",
       "TOEFL Score          0.002980\n",
       "GRE Score            0.002009\n",
       "SOP                  0.000747\n",
       "dtype: float64"
      ]
     },
     "execution_count": 287,
     "metadata": {},
     "output_type": "execute_result"
    }
   ],
   "source": [
    "feature_importance = pd.Series(data=cv.best_estimator_.coef_, index=['GRE Score', 'TOEFL Score', 'University Rating', 'SOP', 'LOR', 'CGPA', 'Research'])\n",
    "feature_importance.sort_values(ascending=False)"
   ]
  },
  {
   "cell_type": "markdown",
   "metadata": {},
   "source": [
    "# Conclusion\n",
    "\n",
    "Surprisengly, the simple linear regression performed best for this use case. I guess my main takeaway from this project is that a more complicated model doesn't necessarily give better results, and that sometimes the simplest model can do the best job. Linear regression had a r2 of 0.878837 and a MAE of 0.034126, while Random Forest had 0.816492 and 0.042136 MAE. Support Vector Regressor performed quite poorly.\n",
    "\n",
    "# Improvements\n",
    "\n",
    "The solution can definetly be improved by collecting more data. Currently, the data set consists of 500 records, all of which are Indian participants. The GPA scale is different from those who have earned their bachelor's degree from an institution that uses a different scale, such as the 4.0 scale for American colleges. My first thought was to feature-enginner GPA column, and convert the CGPA to different scales, but it doesn't seem to be a formula to directly convert between the two, and individual course scores are needed to do calculate them. This is an inconvenience for someone like me, who needs to calculate their CGPA in order to use the model.\n",
    "\n",
    "**Future scope:** A possible extension to this is a web application, where a user will upload a CSV file with their scores and universities they are interested in applying to, and it will tell them their chances of being admitted to each."
   ]
  },
  {
   "cell_type": "markdown",
   "metadata": {},
   "source": [
    "---"
   ]
  },
  {
   "cell_type": "markdown",
   "metadata": {},
   "source": [
    "# Sources:\n",
    "- Data set: https://www.kaggle.com/mohansacharya/graduate-admissions#Admission_Predict_Ver1.1.csv\n",
    "- The evaluate function: This is something a coworker provided me to help test my regression models for a problem I was working on at my job.\n",
    "\n",
    "Other sources:\n",
    "- https://statisticsbyjim.com/regression/interpret-r-squared-regression/"
   ]
  },
  {
   "cell_type": "code",
   "execution_count": null,
   "metadata": {},
   "outputs": [],
   "source": []
  }
 ],
 "metadata": {
  "kernelspec": {
   "display_name": "Python 3",
   "language": "python",
   "name": "python3"
  },
  "language_info": {
   "codemirror_mode": {
    "name": "ipython",
    "version": 3
   },
   "file_extension": ".py",
   "mimetype": "text/x-python",
   "name": "python",
   "nbconvert_exporter": "python",
   "pygments_lexer": "ipython3",
   "version": "3.7.4"
  }
 },
 "nbformat": 4,
 "nbformat_minor": 2
}
